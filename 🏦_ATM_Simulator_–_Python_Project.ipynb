{
  "nbformat": 4,
  "nbformat_minor": 0,
  "metadata": {
    "colab": {
      "provenance": [],
      "mount_file_id": "1hSOUxRdyce7ar7FVoz_GB143ioCvyD14",
      "authorship_tag": "ABX9TyPGm1YIONZvOcHgh03BFRc+",
      "include_colab_link": true
    },
    "kernelspec": {
      "name": "python3",
      "display_name": "Python 3"
    },
    "language_info": {
      "name": "python"
    }
  },
  "cells": [
    {
      "cell_type": "markdown",
      "metadata": {
        "id": "view-in-github",
        "colab_type": "text"
      },
      "source": [
        "<a href=\"https://colab.research.google.com/github/Ayushvish0512/atm/blob/main/%F0%9F%8F%A6_ATM_Simulator_%E2%80%93_Python_Project.ipynb\" target=\"_parent\"><img src=\"https://colab.research.google.com/assets/colab-badge.svg\" alt=\"Open In Colab\"/></a>"
      ]
    },
    {
      "cell_type": "markdown",
      "source": [
        "#Objective\n",
        "\n",
        "\n",
        "1. Welcome Message:\n",
        "\n",
        "      The program starts by greeting the user, setting the stage for the ATM simulation.\n",
        "2. Initialize Account Balance:\n",
        "\n",
        "      The balance variable is set to 1000, representing the user's starting account balance.\n",
        "3. Set Up and Verify PIN:\n",
        "\n",
        "      A. The user_pin variable holds the correct PIN ('1234').\n",
        "\n",
        "      B. The user is prompted to enter their PIN.\n",
        "\n",
        "      C. The entered PIN is compared to user_pin.\n",
        "\n",
        "      D. If the PIN is incorrect, the program notifies the user and sets atm_on to False to prevent entering the main loop.\n",
        "\n",
        "  E. If the PIN is correct, atm_on is set to True, allowing access to the ATM functionalities.\n",
        "\n",
        "\n",
        "4. Main ATM Operation Loop:\n",
        "\n",
        "  A while loop is used, controlled by the atm_on flag.\n",
        "  Inside the loop, the main menu is displayed with options to check balance, deposit money, withdraw money, or exit.\n",
        "5. User Choice Handling:\n",
        "\n",
        "  The user's choice is captured through input.\n",
        "  if-elif-else statements handle the different choices.\n",
        "6. Balance Inquiry:\n",
        "\n",
        "  If the user chooses to check the balance, it's displayed using the balance variable.\n",
        "7. Deposit Money:\n",
        "\n",
        "      The user can deposit money, which is added to balance.\n",
        "      The deposit amount and updated balance are displayed.\n",
        "\n",
        "8. Withdraw Money:\n",
        "\n",
        "  A. For withdrawals, the program checks if the balance is sufficient.\n",
        "\n",
        "  B. If so, the requested amount is subtracted from balance, and the withdrawal is confirmed.\n",
        "\n",
        "  C. If the balance is insufficient, a warning message is shown.\n",
        "\n",
        "9. Exiting the Program:\n",
        "  The user can choose to exit the ATM.\n",
        "\n",
        "      On exiting, a goodbye message is shown, and atm_on is set to False, ending the loop and the program.\n",
        "\n",
        "10. Invalid Choice Handling:\n",
        "\n",
        "      If the user enters an option that's not on the menu, the program prompts them to try again."
      ],
      "metadata": {
        "id": "1NYAdjaBTILg"
      }
    },
    {
      "cell_type": "code",
      "source": [
        "print(\"Welcome to the ATM!\")\n",
        "balance = 1000\n",
        "\n",
        "print(\"Your Welcome Balance \", balance)"
      ],
      "metadata": {
        "colab": {
          "base_uri": "https://localhost:8080/"
        },
        "id": "WHPaZsl7TeAw",
        "outputId": "30f515d2-1a79-4da6-ac24-f966e437008b"
      },
      "execution_count": null,
      "outputs": [
        {
          "output_type": "stream",
          "name": "stdout",
          "text": [
            "Welcome to the ATM!\n",
            "Your Welcome Balance  1000\n"
          ]
        }
      ]
    },
    {
      "cell_type": "markdown",
      "source": [
        "Pin Setup"
      ],
      "metadata": {
        "id": "bVPayq9sXhtU"
      }
    },
    {
      "cell_type": "code",
      "source": [
        "user_pin = \"1234\"\n",
        "\n",
        "pin_enter=input(\"Please Enter your Pin to Verify: \")"
      ],
      "metadata": {
        "colab": {
          "base_uri": "https://localhost:8080/"
        },
        "id": "2kM_XH1XV_Xh",
        "outputId": "75d65c51-7a24-4b5a-e3c3-469b82effb96"
      },
      "execution_count": null,
      "outputs": [
        {
          "name": "stdout",
          "output_type": "stream",
          "text": [
            "Please Enter your Pin to Verify: 1234\n"
          ]
        }
      ]
    },
    {
      "cell_type": "markdown",
      "source": [
        "Verifying"
      ],
      "metadata": {
        "id": "EU1xKPtpYLnf"
      }
    },
    {
      "cell_type": "code",
      "source": [
        "if pin_enter == user_pin:\n",
        "  atm_on = True\n",
        "else:\n",
        "  print(\"Invalid PIN. Exiting\")\n",
        "  atm_on = False"
      ],
      "metadata": {
        "id": "3J7PysffYKuA"
      },
      "execution_count": null,
      "outputs": []
    },
    {
      "cell_type": "code",
      "source": [
        "while atm_on:\n",
        "  print(\"Main Menu:\")\n",
        "  print(\"1. Check Balance\")\n",
        "  print(\"2. Deposit Money\")\n",
        "  print(\"3. Withdraw Money\")\n",
        "  print(\"4. Exit\")\n",
        "  choice = input(\"Enter your choice (1/2/3/4): \")\n",
        "\n",
        "  choice = int(choice)\n",
        "\n",
        "  if choice == 1:\n",
        "    print(\"Your Balance is: \", str(balance))\n",
        "\n",
        "  elif choice == 2:\n",
        "    amount = float(input(\"Enter the deposit amount: \"))\n",
        "    balance += amount\n",
        "    print(\"Deposit successful. Your new balance is: \", str(balance))\n",
        "  elif choice == 3:\n",
        "    withdraw = float(input(\"Enter the withdrawal amount: \"))\n",
        "    if withdraw <= balance:\n",
        "      balance -= withdraw\n",
        "      print(\"Withdrawal successful. Your new balance is: \", str(balance))\n",
        "    else:\n",
        "      print(\"Insufficient funds. Your balance is: \", str(balance))\n",
        "  elif choice ==4:\n",
        "    print(\"Thank you for Using See You Soon\")\n",
        "    break\n",
        "\n",
        "\n",
        "  else:\n",
        "    print(\"Invalid choice. Please try again.\")"
      ],
      "metadata": {
        "colab": {
          "base_uri": "https://localhost:8080/"
        },
        "id": "OT3AnwE2X2Bp",
        "outputId": "d5bc4609-e976-499e-ab45-ca6cc01ae7f1"
      },
      "execution_count": null,
      "outputs": [
        {
          "output_type": "stream",
          "name": "stdout",
          "text": [
            "Main Menu:\n",
            "1. Check Balance\n",
            "2. Deposit Money\n",
            "3. Withdraw Money\n",
            "4. Exit\n",
            "Enter your choice (1/2/3/4): 2\n",
            "Enter the deposit amount: 324325.345\n",
            "Deposit successful. Your new balance is:  325325.345\n",
            "Main Menu:\n",
            "1. Check Balance\n",
            "2. Deposit Money\n",
            "3. Withdraw Money\n",
            "4. Exit\n",
            "Enter your choice (1/2/3/4): 4\n",
            "Thank you for Using See You Soon\n"
          ]
        }
      ]
    },
    {
      "cell_type": "markdown",
      "source": [
        "#User Database"
      ],
      "metadata": {
        "id": "TZzwLdb0niDY"
      }
    },
    {
      "cell_type": "code",
      "source": [
        "import json\n",
        "import os\n",
        "\n",
        "DATA_PATH = \"/content/drive/MyDrive/atm_users.json\"\n",
        "\n",
        "def save_users_to_json(users, filepath=DATA_PATH):\n",
        "    with open(filepath, \"w\") as f:\n",
        "        json.dump(users, f, indent=4)\n",
        "    print(\"✅ User data saved to file.\")\n",
        "\n",
        "def load_users_from_file(filepath=DATA_PATH):\n",
        "    if os.path.exists(filepath):\n",
        "        with open(filepath, \"r\") as f:\n",
        "            return json.load(f)\n",
        "    print(\"⚠️ No existing user data found. Using default users.\")\n",
        "    return {\n",
        "        \"user1\": {\"pin\": \"1234\", \"balance\": 1000.0, \"history\": []},\n",
        "        \"user2\": {\"pin\": \"5678\", \"balance\": 500.0, \"history\": []}\n",
        "    }\n"
      ],
      "metadata": {
        "id": "FzSceROfkV4v"
      },
      "execution_count": 3,
      "outputs": []
    },
    {
      "cell_type": "markdown",
      "source": [
        "#Login Function"
      ],
      "metadata": {
        "id": "0a0zKoPEnsaR"
      }
    },
    {
      "cell_type": "code",
      "source": [
        "def login(users):\n",
        "    print(\"🔐 Login to your ATM Account\")\n",
        "    username = input(\"Enter Username: \")\n",
        "    pin = input(\"Enter PIN: \")\n",
        "    user = users.get(username)\n",
        "\n",
        "    if user and user[\"pin\"] == pin:\n",
        "        print(f\"✅ Welcome, {username}!\")\n",
        "        return username, user  # ✅ Return both username and their data\n",
        "    else:\n",
        "        print(\"❌ Invalid credentials. Try again.\")\n",
        "        return None, None\n"
      ],
      "metadata": {
        "id": "w7DF3vkYolOk"
      },
      "execution_count": 4,
      "outputs": []
    },
    {
      "cell_type": "markdown",
      "source": [
        "#ATM Menu Display\n",
        "\n"
      ],
      "metadata": {
        "id": "d-GLI9smoZiM"
      }
    },
    {
      "cell_type": "code",
      "source": [
        "def show_menu():\n",
        "    print(\"\\n===============================\")\n",
        "    print(\"     🏧  WELCOME TO PYTHON ATM\")\n",
        "    print(\"===============================\")\n",
        "    print(\"1️⃣  Check Balance\")\n",
        "    print(\"2️⃣  Deposit\")\n",
        "    print(\"3️⃣  Withdraw\")\n",
        "    print(\"4️⃣  View Transaction History\")\n",
        "    print(\"5️⃣  Logout\")\n",
        "    print(\"===============================\")\n"
      ],
      "metadata": {
        "id": "ZxhsXup9f2rP"
      },
      "execution_count": 5,
      "outputs": []
    },
    {
      "cell_type": "markdown",
      "source": [
        "#ATM Session Logic"
      ],
      "metadata": {
        "id": "flPzpJ3Co1en"
      }
    },
    {
      "cell_type": "code",
      "source": [
        "def atm_session(username, user_data, users):\n",
        "    while True:\n",
        "        show_menu()\n",
        "        choice = input(\"👉 Choose an option (1-5): \").strip()\n",
        "\n",
        "        if choice == \"1\":\n",
        "            print(f\"💰 Your current balance is: ₹{user_data['balance']:.2f}\")\n",
        "        elif choice == \"2\":\n",
        "            try:\n",
        "                amount = float(input(\"Enter deposit amount: \"))\n",
        "                if amount > 0:\n",
        "                    user_data['balance'] += amount\n",
        "                    user_data['history'].append(f\"Deposited ₹{amount:.2f}\")\n",
        "                    print(\"✅ Amount deposited.\")\n",
        "                else:\n",
        "                    print(\"❌ Enter a valid positive amount.\")\n",
        "            except ValueError:\n",
        "                print(\"❌ Invalid input. Enter numbers only.\")\n",
        "        elif choice == \"3\":\n",
        "            try:\n",
        "                amount = float(input(\"Enter withdrawal amount: \"))\n",
        "                if 0 < amount <= user_data['balance']:\n",
        "                    user_data['balance'] -= amount\n",
        "                    user_data['history'].append(f\"Withdrew ₹{amount:.2f}\")\n",
        "                    print(\"✅ Amount withdrawn.\")\n",
        "                else:\n",
        "                    print(\"❌ Insufficient funds or invalid amount.\")\n",
        "            except ValueError:\n",
        "                print(\"❌ Invalid input. Enter numbers only.\")\n",
        "        elif choice == \"4\":\n",
        "            print(\"📜 Transaction History:\")\n",
        "            if not user_data['history']:\n",
        "                print(\"No transactions yet.\")\n",
        "            else:\n",
        "                for i, t in enumerate(user_data['history'], 1):\n",
        "                    print(f\"{i}. {t}\")\n",
        "        elif choice == \"5\":\n",
        "            print(\"👋 Logged out. Thank you for using Python ATM.\")\n",
        "            # ✅ Save updated user data\n",
        "            users[username] = user_data\n",
        "            save_users_to_json(users)\n",
        "            break\n",
        "        else:\n",
        "            print(\"❌ Invalid option. Please choose from 1-5.\")\n"
      ],
      "metadata": {
        "id": "f6tUwsC1gRBQ"
      },
      "execution_count": 6,
      "outputs": []
    },
    {
      "cell_type": "code",
      "source": [
        "MASTER_PASSWORD = \"secret123\"  # 🔐 Change this to your actual master key\n",
        "\n",
        "def admin_mode(users):\n",
        "    pw = input(\"Enter master password: \")\n",
        "    if pw != MASTER_PASSWORD:\n",
        "        print(\"❌ Invalid master password.\")\n",
        "        return\n",
        "\n",
        "    while True:\n",
        "        print(\"\\n🔧 Admin Menu:\")\n",
        "        print(\"1. Add New User\")\n",
        "        print(\"2. Delete Existing User\")\n",
        "        print(\"3. View All Users\")\n",
        "        print(\"4. Exit Admin Mode\")\n",
        "\n",
        "        choice = input(\"👉 Choose an option (1-4): \").strip()\n",
        "\n",
        "        if choice == \"1\":\n",
        "            new_user = input(\"Enter new username: \")\n",
        "            if new_user in users:\n",
        "                print(\"⚠️ User already exists.\")\n",
        "                continue\n",
        "            pin = input(\"Set PIN for user: \")\n",
        "            try:\n",
        "                balance = float(input(\"Initial balance: \"))\n",
        "            except ValueError:\n",
        "                print(\"❌ Invalid amount.\")\n",
        "                continue\n",
        "            users[new_user] = {\"pin\": pin, \"balance\": balance, \"history\": [f\"Account created with ₹{balance:.2f}\"]}\n",
        "            save_users_to_json(users)\n",
        "            print(f\"✅ User '{new_user}' added successfully.\")\n",
        "\n",
        "        elif choice == \"2\":\n",
        "            del_user = input(\"Enter username to delete: \")\n",
        "            if del_user not in users:\n",
        "                print(\"❌ User not found.\")\n",
        "                continue\n",
        "            if users[del_user][\"balance\"] != 0:\n",
        "                print(\"❌ Cannot delete user with non-zero balance.\")\n",
        "                continue\n",
        "            del users[del_user]\n",
        "            save_users_to_json(users)\n",
        "            print(f\"✅ User '{del_user}' deleted successfully.\")\n",
        "\n",
        "        elif choice == \"3\":\n",
        "            print(\"📄 All Users:\")\n",
        "            for u in users:\n",
        "                print(f\"- {u}\")\n",
        "        elif choice == \"4\":\n",
        "            print(\"👋 Exiting admin mode.\")\n",
        "            break\n",
        "        else:\n",
        "            print(\"❌ Invalid option.\")\n"
      ],
      "metadata": {
        "id": "sNqki48Pt2_F"
      },
      "execution_count": 7,
      "outputs": []
    },
    {
      "cell_type": "markdown",
      "source": [
        "#Run Code"
      ],
      "metadata": {
        "id": "rYkrYPGUr4UW"
      }
    },
    {
      "cell_type": "code",
      "source": [
        "users = load_users_from_file()\n",
        "\n",
        "while True:\n",
        "    print(\"🔐 Login to your ATM Account\")\n",
        "    username = input(\"Enter Username: \")\n",
        "\n",
        "    # 👁️ Hidden Admin Trigger\n",
        "    if username.strip().lower() == \"adduser\":\n",
        "        admin_mode(users)\n",
        "        continue  # loop again after admin mode ends\n",
        "\n",
        "    pin = input(\"Enter PIN: \")\n",
        "    user = users.get(username)\n",
        "\n",
        "    if user and user[\"pin\"] == pin:\n",
        "        print(f\"✅ Welcome, {username}!\")\n",
        "        atm_session(username, user, users)\n",
        "        break  # Or continue if you want multiple user sessions\n",
        "    else:\n",
        "        print(\"❌ Invalid credentials. Try again.\")\n"
      ],
      "metadata": {
        "colab": {
          "base_uri": "https://localhost:8080/",
          "height": 1000
        },
        "id": "pGP2dzxqhqkj",
        "outputId": "3f758918-f474-4611-c9d5-94a68655fbb5"
      },
      "execution_count": 9,
      "outputs": [
        {
          "output_type": "stream",
          "name": "stdout",
          "text": [
            "🔐 Login to your ATM Account\n",
            "Enter Username: adduser\n",
            "Enter master password: user4\n",
            "❌ Invalid master password.\n",
            "🔐 Login to your ATM Account\n",
            "Enter Username: secret123\n",
            "Enter PIN: afsd\n",
            "❌ Invalid credentials. Try again.\n",
            "🔐 Login to your ATM Account\n",
            "Enter Username: adduser\n",
            "Enter master password: secret123\n",
            "\n",
            "🔧 Admin Menu:\n",
            "1. Add New User\n",
            "2. Delete Existing User\n",
            "3. View All Users\n",
            "4. Exit Admin Mode\n",
            "👉 Choose an option (1-4): 3\n",
            "📄 All Users:\n",
            "- user1\n",
            "- user2\n",
            "- user4\n",
            "\n",
            "🔧 Admin Menu:\n",
            "1. Add New User\n",
            "2. Delete Existing User\n",
            "3. View All Users\n",
            "4. Exit Admin Mode\n",
            "👉 Choose an option (1-4): 2\n",
            "Enter username to delete: user4\n",
            "❌ Cannot delete user with non-zero balance.\n",
            "\n",
            "🔧 Admin Menu:\n",
            "1. Add New User\n",
            "2. Delete Existing User\n",
            "3. View All Users\n",
            "4. Exit Admin Mode\n"
          ]
        },
        {
          "output_type": "error",
          "ename": "KeyboardInterrupt",
          "evalue": "Interrupted by user",
          "traceback": [
            "\u001b[0;31m---------------------------------------------------------------------------\u001b[0m",
            "\u001b[0;31mKeyboardInterrupt\u001b[0m                         Traceback (most recent call last)",
            "\u001b[0;32m<ipython-input-9-250e73f42899>\u001b[0m in \u001b[0;36m<cell line: 0>\u001b[0;34m()\u001b[0m\n\u001b[1;32m      7\u001b[0m     \u001b[0;31m# 👁️ Hidden Admin Trigger\u001b[0m\u001b[0;34m\u001b[0m\u001b[0;34m\u001b[0m\u001b[0m\n\u001b[1;32m      8\u001b[0m     \u001b[0;32mif\u001b[0m \u001b[0musername\u001b[0m\u001b[0;34m.\u001b[0m\u001b[0mstrip\u001b[0m\u001b[0;34m(\u001b[0m\u001b[0;34m)\u001b[0m\u001b[0;34m.\u001b[0m\u001b[0mlower\u001b[0m\u001b[0;34m(\u001b[0m\u001b[0;34m)\u001b[0m \u001b[0;34m==\u001b[0m \u001b[0;34m\"adduser\"\u001b[0m\u001b[0;34m:\u001b[0m\u001b[0;34m\u001b[0m\u001b[0;34m\u001b[0m\u001b[0m\n\u001b[0;32m----> 9\u001b[0;31m         \u001b[0madmin_mode\u001b[0m\u001b[0;34m(\u001b[0m\u001b[0musers\u001b[0m\u001b[0;34m)\u001b[0m\u001b[0;34m\u001b[0m\u001b[0;34m\u001b[0m\u001b[0m\n\u001b[0m\u001b[1;32m     10\u001b[0m         \u001b[0;32mcontinue\u001b[0m  \u001b[0;31m# loop again after admin mode ends\u001b[0m\u001b[0;34m\u001b[0m\u001b[0;34m\u001b[0m\u001b[0m\n\u001b[1;32m     11\u001b[0m \u001b[0;34m\u001b[0m\u001b[0m\n",
            "\u001b[0;32m<ipython-input-7-5e21f42382d4>\u001b[0m in \u001b[0;36madmin_mode\u001b[0;34m(users)\u001b[0m\n\u001b[1;32m     14\u001b[0m         \u001b[0mprint\u001b[0m\u001b[0;34m(\u001b[0m\u001b[0;34m\"4. Exit Admin Mode\"\u001b[0m\u001b[0;34m)\u001b[0m\u001b[0;34m\u001b[0m\u001b[0;34m\u001b[0m\u001b[0m\n\u001b[1;32m     15\u001b[0m \u001b[0;34m\u001b[0m\u001b[0m\n\u001b[0;32m---> 16\u001b[0;31m         \u001b[0mchoice\u001b[0m \u001b[0;34m=\u001b[0m \u001b[0minput\u001b[0m\u001b[0;34m(\u001b[0m\u001b[0;34m\"👉 Choose an option (1-4): \"\u001b[0m\u001b[0;34m)\u001b[0m\u001b[0;34m.\u001b[0m\u001b[0mstrip\u001b[0m\u001b[0;34m(\u001b[0m\u001b[0;34m)\u001b[0m\u001b[0;34m\u001b[0m\u001b[0;34m\u001b[0m\u001b[0m\n\u001b[0m\u001b[1;32m     17\u001b[0m \u001b[0;34m\u001b[0m\u001b[0m\n\u001b[1;32m     18\u001b[0m         \u001b[0;32mif\u001b[0m \u001b[0mchoice\u001b[0m \u001b[0;34m==\u001b[0m \u001b[0;34m\"1\"\u001b[0m\u001b[0;34m:\u001b[0m\u001b[0;34m\u001b[0m\u001b[0;34m\u001b[0m\u001b[0m\n",
            "\u001b[0;32m/usr/local/lib/python3.11/dist-packages/ipykernel/kernelbase.py\u001b[0m in \u001b[0;36mraw_input\u001b[0;34m(self, prompt)\u001b[0m\n\u001b[1;32m   1175\u001b[0m                 \u001b[0;34m\"raw_input was called, but this frontend does not support input requests.\"\u001b[0m\u001b[0;34m\u001b[0m\u001b[0;34m\u001b[0m\u001b[0m\n\u001b[1;32m   1176\u001b[0m             )\n\u001b[0;32m-> 1177\u001b[0;31m         return self._input_request(\n\u001b[0m\u001b[1;32m   1178\u001b[0m             \u001b[0mstr\u001b[0m\u001b[0;34m(\u001b[0m\u001b[0mprompt\u001b[0m\u001b[0;34m)\u001b[0m\u001b[0;34m,\u001b[0m\u001b[0;34m\u001b[0m\u001b[0;34m\u001b[0m\u001b[0m\n\u001b[1;32m   1179\u001b[0m             \u001b[0mself\u001b[0m\u001b[0;34m.\u001b[0m\u001b[0m_parent_ident\u001b[0m\u001b[0;34m[\u001b[0m\u001b[0;34m\"shell\"\u001b[0m\u001b[0;34m]\u001b[0m\u001b[0;34m,\u001b[0m\u001b[0;34m\u001b[0m\u001b[0;34m\u001b[0m\u001b[0m\n",
            "\u001b[0;32m/usr/local/lib/python3.11/dist-packages/ipykernel/kernelbase.py\u001b[0m in \u001b[0;36m_input_request\u001b[0;34m(self, prompt, ident, parent, password)\u001b[0m\n\u001b[1;32m   1217\u001b[0m             \u001b[0;32mexcept\u001b[0m \u001b[0mKeyboardInterrupt\u001b[0m\u001b[0;34m:\u001b[0m\u001b[0;34m\u001b[0m\u001b[0;34m\u001b[0m\u001b[0m\n\u001b[1;32m   1218\u001b[0m                 \u001b[0;31m# re-raise KeyboardInterrupt, to truncate traceback\u001b[0m\u001b[0;34m\u001b[0m\u001b[0;34m\u001b[0m\u001b[0m\n\u001b[0;32m-> 1219\u001b[0;31m                 \u001b[0;32mraise\u001b[0m \u001b[0mKeyboardInterrupt\u001b[0m\u001b[0;34m(\u001b[0m\u001b[0;34m\"Interrupted by user\"\u001b[0m\u001b[0;34m)\u001b[0m \u001b[0;32mfrom\u001b[0m \u001b[0;32mNone\u001b[0m\u001b[0;34m\u001b[0m\u001b[0;34m\u001b[0m\u001b[0m\n\u001b[0m\u001b[1;32m   1220\u001b[0m             \u001b[0;32mexcept\u001b[0m \u001b[0mException\u001b[0m\u001b[0;34m:\u001b[0m\u001b[0;34m\u001b[0m\u001b[0;34m\u001b[0m\u001b[0m\n\u001b[1;32m   1221\u001b[0m                 \u001b[0mself\u001b[0m\u001b[0;34m.\u001b[0m\u001b[0mlog\u001b[0m\u001b[0;34m.\u001b[0m\u001b[0mwarning\u001b[0m\u001b[0;34m(\u001b[0m\u001b[0;34m\"Invalid Message:\"\u001b[0m\u001b[0;34m,\u001b[0m \u001b[0mexc_info\u001b[0m\u001b[0;34m=\u001b[0m\u001b[0;32mTrue\u001b[0m\u001b[0;34m)\u001b[0m\u001b[0;34m\u001b[0m\u001b[0;34m\u001b[0m\u001b[0m\n",
            "\u001b[0;31mKeyboardInterrupt\u001b[0m: Interrupted by user"
          ]
        }
      ]
    },
    {
      "cell_type": "markdown",
      "source": [
        "##manual check for json file"
      ],
      "metadata": {
        "id": "vOf2ZL9UrdNr"
      }
    },
    {
      "cell_type": "code",
      "source": [
        "import os\n",
        "\n",
        "# Define the full path to the file\n",
        "filepath = \"/content/drive/MyDrive/atm_users.json\"\n",
        "\n",
        "# Check if the file exists\n",
        "if os.path.exists(filepath):\n",
        "    print(\"✅ JSON file exists in Google Drive.\")\n",
        "else:\n",
        "    print(\"❌ File not found. Make sure the save function ran or check the path.\")\n"
      ],
      "metadata": {
        "colab": {
          "base_uri": "https://localhost:8080/"
        },
        "id": "XM36mqQNljkw",
        "outputId": "bee7b52f-0c14-4be5-8536-ee8a135b010d"
      },
      "execution_count": 1,
      "outputs": [
        {
          "output_type": "stream",
          "name": "stdout",
          "text": [
            "✅ JSON file exists in Google Drive.\n"
          ]
        }
      ]
    },
    {
      "cell_type": "code",
      "source": [
        "import json\n",
        "\n",
        "with open(filepath, \"r\") as f:\n",
        "    data = json.load(f)\n",
        "\n",
        "# Print each user and their transaction history\n",
        "for username, user_data in data.items():\n",
        "    print(f\"👤 {username}\")\n",
        "    print(f\"💰 Balance: ₹{user_data['balance']}\")\n",
        "    print(f\"📜 History:\")\n",
        "    for i, entry in enumerate(user_data['history'], 1):\n",
        "        print(f\"   {i}. {entry}\")\n",
        "    print(\"-\" * 30)\n"
      ],
      "metadata": {
        "colab": {
          "base_uri": "https://localhost:8080/"
        },
        "id": "e4c3W4i6rUgm",
        "outputId": "f98a5dc1-ad77-4850-9bfa-91caa510fa60"
      },
      "execution_count": 10,
      "outputs": [
        {
          "output_type": "stream",
          "name": "stdout",
          "text": [
            "👤 user1\n",
            "💰 Balance: ₹700.0\n",
            "📜 History:\n",
            "   1. Withdrew ₹300.00\n",
            "------------------------------\n",
            "👤 user2\n",
            "💰 Balance: ₹500.0\n",
            "📜 History:\n",
            "------------------------------\n",
            "👤 user4\n",
            "💰 Balance: ₹90.0\n",
            "📜 History:\n",
            "   1. Account created with ₹90.00\n",
            "------------------------------\n"
          ]
        }
      ]
    },
    {
      "cell_type": "code",
      "source": [],
      "metadata": {
        "id": "M3SBG7IwrV8U"
      },
      "execution_count": null,
      "outputs": []
    }
  ]
}